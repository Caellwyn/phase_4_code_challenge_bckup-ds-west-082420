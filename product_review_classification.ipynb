{
  "nbformat": 4,
  "nbformat_minor": 0,
  "metadata": {
    "kernelspec": {
      "display_name": "Python 3",
      "language": "python",
      "name": "python3"
    },
    "language_info": {
      "codemirror_mode": {
        "name": "ipython",
        "version": 3
      },
      "file_extension": ".py",
      "mimetype": "text/x-python",
      "name": "python",
      "nbconvert_exporter": "python",
      "pygments_lexer": "ipython3",
      "version": "3.8.3"
    },
    "toc": {
      "base_numbering": 1,
      "nav_menu": {},
      "number_sections": false,
      "sideBar": true,
      "skip_h1_title": true,
      "title_cell": "Table of Contents",
      "title_sidebar": "Contents",
      "toc_cell": false,
      "toc_position": {},
      "toc_section_display": true,
      "toc_window_display": false
    },
    "varInspector": {
      "cols": {
        "lenName": 16,
        "lenType": 16,
        "lenVar": 40
      },
      "kernels_config": {
        "python": {
          "delete_cmd_postfix": "",
          "delete_cmd_prefix": "del ",
          "library": "var_list.py",
          "varRefreshCmd": "print(var_dic_list())"
        },
        "r": {
          "delete_cmd_postfix": ") ",
          "delete_cmd_prefix": "rm(",
          "library": "var_list.r",
          "varRefreshCmd": "cat(var_dic_list()) "
        }
      },
      "types_to_exclude": [
        "module",
        "function",
        "builtin_function_or_method",
        "instance",
        "_Feature"
      ],
      "window_display": false
    },
    "colab": {
      "name": "index (1).ipynb",
      "provenance": [],
      "collapsed_sections": [],
      "toc_visible": true
    },
    "accelerator": "GPU"
  },
  "cells": [
    {
      "cell_type": "markdown",
      "metadata": {
        "id": "JcbEUF0joMQ4"
      },
      "source": [
        "# Mod 4 Code Challenge: Product Reviews\n",
        "\n",
        "This assessment is designed to test your understanding of these areas:\n",
        "\n",
        "1. Data Engineering\n",
        "    - Understanding an existing ETL pipeline\n",
        "    - Feature scaling\n",
        "2. Deep Learning with Neural Networks\n",
        "    - Creating a TensorFlow neural network model\n",
        "    - Fitting the model on training data\n",
        "    - Hyperparameter tuning\n",
        "    - Model evaluation on test data\n",
        "3. Business Understanding and Technical Communication\n",
        "    - Advising a business on what kind of model architecture to use\n",
        "\n",
        "**Unlike previous challenges, we have provided you some pre-existing code.**  Your work, markdown and code, should build off of the pre-existing material. \n",
        "\n",
        "Make sure that your code is clean and readable, and that each step of your process is documented. For this challenge each step builds upon the step before it. If you are having issues finishing one of the steps completely, move on to the next step to attempt every section.  There will be occasional hints to help you move on to the next step if you get stuck, but attempt to follow the requirements whenever possible. \n",
        "\n",
        "### Business Understanding\n",
        "\n",
        "Northwind Trading Company allows customers to leave reviews, but those reviews do not have customer-facing \"star ratings\".  Instead, customers are free to write text, and other customers can vote on whether the review was helpful.  They find that this is a good trade-off between helping customers make informed decisions about products, and avoiding having any products go unsold because of poor ratings.\n",
        "\n",
        "Internally, Northwind is interested to know which of these reviews are positive, and which are negative.  **A previous employee of the company has already built a Random Forest Classifier model to perform this classification task.**\n",
        "\n",
        "Northwind management has heard great things about using Artificial Intelligence for this kind of task, especially Neural Networks like TensorFlow.  **You have been instructed to build a TensorFlow model and advise the company on whether they should switch from the Random Forest Classifier to the TensorFlow model.**\n",
        "\n",
        "In either case, you want a **classification model** that optimizes for **accuracy**.\n",
        "\n",
        "### Data Understanding\n",
        "\n",
        "The data has already been described, imported, and preprocessed in this notebook.\n",
        "\n",
        "****Below is the work of a previous employee. Take a brief moment to review their work and then complete the tasks at the bottom of the notebook.****"
      ]
    },
    {
      "cell_type": "markdown",
      "metadata": {
        "deletable": false,
        "editable": false,
        "nbgrader": {
          "cell_type": "markdown",
          "checksum": "c0e47f2d84be518d4e2f345c77914877",
          "grade": false,
          "grade_id": "cell-5cf9478351835437",
          "locked": true,
          "schema_version": 3,
          "solution": false,
          "task": false
        },
        "id": "d4ZE1m9noMQ5"
      },
      "source": [
        "# Product Review Classification\n",
        "\n",
        "## Business Understanding\n",
        "Our company wants a tool that will automatically classify product reviews as _positive_ or _negative_ reviews, based on the features of the review.  This will help our Product team to perform more sophisticated analyses in the future to help ensure customer satisfaction.\n",
        "\n",
        "## Data Understanding\n",
        "We have a labeled collection of 20,000 product reviews, with an equal split of positive and negative reviews. The dataset contains the following features:\n",
        "\n",
        " - `ProductId` Unique identifier for the product\n",
        " - `UserId` Unqiue identifier for the user\n",
        " - `ProfileName` Profile name of the user\n",
        " - `HelpfulnessNumerator` Number of users who found the review helpful\n",
        " - `HelpfulnessDenominator` Number of users who indicated whether they found the review helpful or not\n",
        " - `Time` Timestamp for the review\n",
        " - `Summary` Brief summary of the review\n",
        " - `Text` Text of the review\n",
        " - `PositiveReview` 1 if this was labeled as a positive review, 0 if it was labeled as a negative review"
      ]
    },
    {
      "cell_type": "code",
      "metadata": {
        "id": "xEPaLqIjoMQ5"
      },
      "source": [
        "import pandas as pd\n",
        "import numpy as np\n",
        "from sklearn.model_selection import train_test_split\n",
        "from sklearn.feature_extraction.text import TfidfVectorizer\n",
        "from sklearn.preprocessing import OneHotEncoder, FunctionTransformer\n",
        "from sklearn.compose import ColumnTransformer\n",
        "from sklearn.pipeline import Pipeline\n",
        "from sklearn.ensemble import RandomForestClassifier\n",
        "from sklearn.metrics import confusion_matrix"
      ],
      "execution_count": 1,
      "outputs": []
    },
    {
      "cell_type": "code",
      "metadata": {
        "deletable": false,
        "editable": false,
        "nbgrader": {
          "cell_type": "code",
          "checksum": "d12ad4b9bbc742a1963e558849c5da90",
          "grade": false,
          "grade_id": "cell-8f19c966797e8ca7",
          "locked": true,
          "schema_version": 3,
          "solution": false,
          "task": false
        },
        "id": "521q-AX5oMQ8",
        "outputId": "6a054e51-0f6e-4a78-9841-742bf4be5bc2",
        "colab": {
          "base_uri": "https://localhost:8080/",
          "height": 500
        }
      },
      "source": [
        "df = pd.read_csv(\"reviews.csv\")\n",
        "df.head(3)"
      ],
      "execution_count": 2,
      "outputs": [
        {
          "output_type": "execute_result",
          "data": {
            "text/html": [
              "<div>\n",
              "<style scoped>\n",
              "    .dataframe tbody tr th:only-of-type {\n",
              "        vertical-align: middle;\n",
              "    }\n",
              "\n",
              "    .dataframe tbody tr th {\n",
              "        vertical-align: top;\n",
              "    }\n",
              "\n",
              "    .dataframe thead th {\n",
              "        text-align: right;\n",
              "    }\n",
              "</style>\n",
              "<table border=\"1\" class=\"dataframe\">\n",
              "  <thead>\n",
              "    <tr style=\"text-align: right;\">\n",
              "      <th></th>\n",
              "      <th>ProductId</th>\n",
              "      <th>UserId</th>\n",
              "      <th>ProfileName</th>\n",
              "      <th>HelpfulnessNumerator</th>\n",
              "      <th>HelpfulnessDenominator</th>\n",
              "      <th>Time</th>\n",
              "      <th>Summary</th>\n",
              "      <th>Text</th>\n",
              "      <th>PositiveReview</th>\n",
              "    </tr>\n",
              "  </thead>\n",
              "  <tbody>\n",
              "    <tr>\n",
              "      <th>0</th>\n",
              "      <td>B002QWHJOU</td>\n",
              "      <td>A37565LZHTG1VH</td>\n",
              "      <td>C. Maltese</td>\n",
              "      <td>1</td>\n",
              "      <td>1</td>\n",
              "      <td>1305331200</td>\n",
              "      <td>Awesome!</td>\n",
              "      <td>This is a great product. My 2 year old Golden ...</td>\n",
              "      <td>1</td>\n",
              "    </tr>\n",
              "    <tr>\n",
              "      <th>1</th>\n",
              "      <td>B000ESLJ6C</td>\n",
              "      <td>AMUAWXDJHE4D2</td>\n",
              "      <td>angieseashore</td>\n",
              "      <td>1</td>\n",
              "      <td>1</td>\n",
              "      <td>1320710400</td>\n",
              "      <td>Was there a recipe change?</td>\n",
              "      <td>I have been drinking Pero ever since I was a l...</td>\n",
              "      <td>0</td>\n",
              "    </tr>\n",
              "    <tr>\n",
              "      <th>2</th>\n",
              "      <td>B004IJJQK4</td>\n",
              "      <td>AMHHNAFJ9L958</td>\n",
              "      <td>A M</td>\n",
              "      <td>0</td>\n",
              "      <td>1</td>\n",
              "      <td>1321747200</td>\n",
              "      <td>These taste so bland.</td>\n",
              "      <td>Look, each pack contains two servings of 120 c...</td>\n",
              "      <td>0</td>\n",
              "    </tr>\n",
              "  </tbody>\n",
              "</table>\n",
              "</div>"
            ],
            "text/plain": [
              "    ProductId  ... PositiveReview\n",
              "0  B002QWHJOU  ...              1\n",
              "1  B000ESLJ6C  ...              0\n",
              "2  B004IJJQK4  ...              0\n",
              "\n",
              "[3 rows x 9 columns]"
            ]
          },
          "metadata": {
            "tags": []
          },
          "execution_count": 2
        }
      ]
    },
    {
      "cell_type": "markdown",
      "metadata": {
        "deletable": false,
        "editable": false,
        "nbgrader": {
          "cell_type": "markdown",
          "checksum": "00b5b97f4dc78599523bf55af4044601",
          "grade": false,
          "grade_id": "cell-de50c050862f1ec0",
          "locked": true,
          "schema_version": 3,
          "solution": false,
          "task": false
        },
        "id": "7ppE_ufNoMQ_"
      },
      "source": [
        "The data has already been cleaned, so there are no missing values"
      ]
    },
    {
      "cell_type": "code",
      "metadata": {
        "deletable": false,
        "editable": false,
        "nbgrader": {
          "cell_type": "code",
          "checksum": "4f69c7ac9899512c8d7ca3b061ede167",
          "grade": false,
          "grade_id": "cell-d5c61a2ee001ee18",
          "locked": true,
          "schema_version": 3,
          "solution": false,
          "task": false
        },
        "id": "knaC1MV5oMQ_",
        "outputId": "8845cb1f-4182-4023-c063-211c898d261f",
        "colab": {
          "base_uri": "https://localhost:8080/"
        }
      },
      "source": [
        "df.isna().sum()"
      ],
      "execution_count": 3,
      "outputs": [
        {
          "output_type": "execute_result",
          "data": {
            "text/plain": [
              "ProductId                 0\n",
              "UserId                    0\n",
              "ProfileName               0\n",
              "HelpfulnessNumerator      0\n",
              "HelpfulnessDenominator    0\n",
              "Time                      0\n",
              "Summary                   0\n",
              "Text                      0\n",
              "PositiveReview            0\n",
              "dtype: int64"
            ]
          },
          "metadata": {
            "tags": []
          },
          "execution_count": 3
        }
      ]
    },
    {
      "cell_type": "markdown",
      "metadata": {
        "deletable": false,
        "editable": false,
        "nbgrader": {
          "cell_type": "markdown",
          "checksum": "a5cdc79e44ba7459c1e132c0a7098474",
          "grade": false,
          "grade_id": "cell-bc36cabb3eca9892",
          "locked": true,
          "schema_version": 3,
          "solution": false,
          "task": false
        },
        "id": "KN1wZuPCoMRC"
      },
      "source": [
        "`PositiveReview` is the target, and all other columns are features"
      ]
    },
    {
      "cell_type": "code",
      "metadata": {
        "deletable": false,
        "editable": false,
        "nbgrader": {
          "cell_type": "code",
          "checksum": "437bbabc250883a93140c08c34faf2af",
          "grade": false,
          "grade_id": "cell-d0be448b581f518c",
          "locked": true,
          "schema_version": 3,
          "solution": false,
          "task": false
        },
        "id": "1x417949oMRD"
      },
      "source": [
        "X = df.drop(\"PositiveReview\", axis=1)\n",
        "y = df[\"PositiveReview\"]"
      ],
      "execution_count": 4,
      "outputs": []
    },
    {
      "cell_type": "markdown",
      "metadata": {
        "deletable": false,
        "editable": false,
        "nbgrader": {
          "cell_type": "markdown",
          "checksum": "1115754d427a712daec8732dfeee212e",
          "grade": false,
          "grade_id": "cell-df5c1e71d5e49339",
          "locked": true,
          "schema_version": 3,
          "solution": false,
          "task": false
        },
        "id": "JxrbKnGCoMRG"
      },
      "source": [
        "## Data Preparation\n",
        "\n",
        "First, split into train and test sets"
      ]
    },
    {
      "cell_type": "code",
      "metadata": {
        "deletable": false,
        "editable": false,
        "nbgrader": {
          "cell_type": "code",
          "checksum": "a90fca953115932250bd3fdbbe3fd8c3",
          "grade": false,
          "grade_id": "cell-d86566df8ed2de47",
          "locked": true,
          "schema_version": 3,
          "solution": false,
          "task": false
        },
        "id": "WXho2SLxoMRG",
        "outputId": "caf22825-3f4d-4414-a44f-944c03238af7",
        "colab": {
          "base_uri": "https://localhost:8080/"
        }
      },
      "source": [
        "X_train, X_test, y_train, y_test = train_test_split(X, y, random_state=42)\n",
        "X_train.shape"
      ],
      "execution_count": 5,
      "outputs": [
        {
          "output_type": "execute_result",
          "data": {
            "text/plain": [
              "(15000, 8)"
            ]
          },
          "metadata": {
            "tags": []
          },
          "execution_count": 5
        }
      ]
    },
    {
      "cell_type": "markdown",
      "metadata": {
        "deletable": false,
        "editable": false,
        "nbgrader": {
          "cell_type": "markdown",
          "checksum": "09723cad404018217d8cfde509450f31",
          "grade": false,
          "grade_id": "cell-42807fda590da223",
          "locked": true,
          "schema_version": 3,
          "solution": false,
          "task": false
        },
        "id": "4O6GAfAGoMRJ"
      },
      "source": [
        "Second, prepare for modeling. The following `Pipeline` prepares all data for modeling.  It one-hot encodes the `ProductId`, applies a tf-idf vectorizer to the `Summary` and `Text`, keeps the numeric columns as-is, and drops all other columns.\n",
        "\n",
        "The following code may take up to 1 minute to run."
      ]
    },
    {
      "cell_type": "code",
      "metadata": {
        "deletable": false,
        "editable": false,
        "nbgrader": {
          "cell_type": "code",
          "checksum": "1f988fd3838dc0c71c160772945f5037",
          "grade": false,
          "grade_id": "cell-3a518026cdbd1cbd",
          "locked": true,
          "schema_version": 3,
          "solution": false,
          "task": false
        },
        "id": "aKXWCdxSoMRJ",
        "outputId": "3fa8a55c-32de-4197-abbe-8a1bdfc72099",
        "colab": {
          "base_uri": "https://localhost:8080/"
        }
      },
      "source": [
        "def drop_irrelevant_columns(X):\n",
        "    return X.drop([\"UserId\", \"ProfileName\"], axis=1)\n",
        "\n",
        "pipeline = Pipeline(steps=[\n",
        "    (\"drop_columns\", FunctionTransformer(drop_irrelevant_columns,\n",
        "                                        validate=False)),\n",
        "    (\"transform_text_columns\", ColumnTransformer(transformers=[\n",
        "        (\"ohe\", OneHotEncoder(categories=\"auto\", handle_unknown=\"ignore\", sparse=False), [\"ProductId\"]),\n",
        "        (\"summary-tf-idf\", TfidfVectorizer(max_features=1000), \"Summary\"),\n",
        "        (\"text-tf-idf\", TfidfVectorizer(max_features=1000), \"Text\")\n",
        "    ], remainder=\"passthrough\"))\n",
        "])\n",
        "\n",
        "X_train_transformed = pipeline.fit_transform(X_train)\n",
        "X_test_transformed = pipeline.transform(X_test)\n",
        "\n",
        "X_train_transformed.shape"
      ],
      "execution_count": 6,
      "outputs": [
        {
          "output_type": "execute_result",
          "data": {
            "text/plain": [
              "(15000, 11275)"
            ]
          },
          "metadata": {
            "tags": []
          },
          "execution_count": 6
        }
      ]
    },
    {
      "cell_type": "code",
      "metadata": {
        "id": "jG4pqFJdoMRM",
        "outputId": "3937c68c-e45a-4852-fd94-dcb59fd81599",
        "colab": {
          "base_uri": "https://localhost:8080/",
          "height": 340
        }
      },
      "source": [
        "pd.DataFrame(X_train_transformed).describe()"
      ],
      "execution_count": 7,
      "outputs": [
        {
          "output_type": "execute_result",
          "data": {
            "text/html": [
              "<div>\n",
              "<style scoped>\n",
              "    .dataframe tbody tr th:only-of-type {\n",
              "        vertical-align: middle;\n",
              "    }\n",
              "\n",
              "    .dataframe tbody tr th {\n",
              "        vertical-align: top;\n",
              "    }\n",
              "\n",
              "    .dataframe thead th {\n",
              "        text-align: right;\n",
              "    }\n",
              "</style>\n",
              "<table border=\"1\" class=\"dataframe\">\n",
              "  <thead>\n",
              "    <tr style=\"text-align: right;\">\n",
              "      <th></th>\n",
              "      <th>0</th>\n",
              "      <th>1</th>\n",
              "      <th>2</th>\n",
              "      <th>3</th>\n",
              "      <th>4</th>\n",
              "      <th>5</th>\n",
              "      <th>6</th>\n",
              "      <th>7</th>\n",
              "      <th>8</th>\n",
              "      <th>9</th>\n",
              "      <th>10</th>\n",
              "      <th>11</th>\n",
              "      <th>12</th>\n",
              "      <th>13</th>\n",
              "      <th>14</th>\n",
              "      <th>15</th>\n",
              "      <th>16</th>\n",
              "      <th>17</th>\n",
              "      <th>18</th>\n",
              "      <th>19</th>\n",
              "      <th>20</th>\n",
              "      <th>21</th>\n",
              "      <th>22</th>\n",
              "      <th>23</th>\n",
              "      <th>24</th>\n",
              "      <th>25</th>\n",
              "      <th>26</th>\n",
              "      <th>27</th>\n",
              "      <th>28</th>\n",
              "      <th>29</th>\n",
              "      <th>30</th>\n",
              "      <th>31</th>\n",
              "      <th>32</th>\n",
              "      <th>33</th>\n",
              "      <th>34</th>\n",
              "      <th>35</th>\n",
              "      <th>36</th>\n",
              "      <th>37</th>\n",
              "      <th>38</th>\n",
              "      <th>39</th>\n",
              "      <th>...</th>\n",
              "      <th>11235</th>\n",
              "      <th>11236</th>\n",
              "      <th>11237</th>\n",
              "      <th>11238</th>\n",
              "      <th>11239</th>\n",
              "      <th>11240</th>\n",
              "      <th>11241</th>\n",
              "      <th>11242</th>\n",
              "      <th>11243</th>\n",
              "      <th>11244</th>\n",
              "      <th>11245</th>\n",
              "      <th>11246</th>\n",
              "      <th>11247</th>\n",
              "      <th>11248</th>\n",
              "      <th>11249</th>\n",
              "      <th>11250</th>\n",
              "      <th>11251</th>\n",
              "      <th>11252</th>\n",
              "      <th>11253</th>\n",
              "      <th>11254</th>\n",
              "      <th>11255</th>\n",
              "      <th>11256</th>\n",
              "      <th>11257</th>\n",
              "      <th>11258</th>\n",
              "      <th>11259</th>\n",
              "      <th>11260</th>\n",
              "      <th>11261</th>\n",
              "      <th>11262</th>\n",
              "      <th>11263</th>\n",
              "      <th>11264</th>\n",
              "      <th>11265</th>\n",
              "      <th>11266</th>\n",
              "      <th>11267</th>\n",
              "      <th>11268</th>\n",
              "      <th>11269</th>\n",
              "      <th>11270</th>\n",
              "      <th>11271</th>\n",
              "      <th>11272</th>\n",
              "      <th>11273</th>\n",
              "      <th>11274</th>\n",
              "    </tr>\n",
              "  </thead>\n",
              "  <tbody>\n",
              "    <tr>\n",
              "      <th>count</th>\n",
              "      <td>15000.000000</td>\n",
              "      <td>15000.000000</td>\n",
              "      <td>15000.000000</td>\n",
              "      <td>15000.000000</td>\n",
              "      <td>15000.000000</td>\n",
              "      <td>15000.000000</td>\n",
              "      <td>15000.000000</td>\n",
              "      <td>15000.000000</td>\n",
              "      <td>15000.000000</td>\n",
              "      <td>15000.000000</td>\n",
              "      <td>15000.000000</td>\n",
              "      <td>15000.000000</td>\n",
              "      <td>15000.000000</td>\n",
              "      <td>15000.000000</td>\n",
              "      <td>15000.000000</td>\n",
              "      <td>15000.000000</td>\n",
              "      <td>15000.000000</td>\n",
              "      <td>15000.000000</td>\n",
              "      <td>15000.000000</td>\n",
              "      <td>15000.000000</td>\n",
              "      <td>15000.000000</td>\n",
              "      <td>15000.000000</td>\n",
              "      <td>15000.000000</td>\n",
              "      <td>15000.000000</td>\n",
              "      <td>15000.000000</td>\n",
              "      <td>15000.000000</td>\n",
              "      <td>15000.000000</td>\n",
              "      <td>15000.000000</td>\n",
              "      <td>15000.000000</td>\n",
              "      <td>15000.000000</td>\n",
              "      <td>15000.000000</td>\n",
              "      <td>15000.000000</td>\n",
              "      <td>15000.000000</td>\n",
              "      <td>15000.000000</td>\n",
              "      <td>15000.000000</td>\n",
              "      <td>15000.000000</td>\n",
              "      <td>15000.000000</td>\n",
              "      <td>15000.000000</td>\n",
              "      <td>15000.000000</td>\n",
              "      <td>15000.000000</td>\n",
              "      <td>...</td>\n",
              "      <td>15000.000000</td>\n",
              "      <td>15000.000000</td>\n",
              "      <td>15000.000000</td>\n",
              "      <td>15000.000000</td>\n",
              "      <td>15000.000000</td>\n",
              "      <td>15000.000000</td>\n",
              "      <td>15000.000000</td>\n",
              "      <td>15000.000000</td>\n",
              "      <td>15000.000000</td>\n",
              "      <td>15000.000000</td>\n",
              "      <td>15000.000000</td>\n",
              "      <td>15000.000000</td>\n",
              "      <td>15000.000000</td>\n",
              "      <td>15000.000000</td>\n",
              "      <td>15000.000000</td>\n",
              "      <td>15000.000000</td>\n",
              "      <td>15000.000000</td>\n",
              "      <td>15000.000000</td>\n",
              "      <td>15000.000000</td>\n",
              "      <td>15000.000000</td>\n",
              "      <td>15000.000000</td>\n",
              "      <td>15000.000000</td>\n",
              "      <td>15000.000000</td>\n",
              "      <td>15000.000000</td>\n",
              "      <td>15000.000000</td>\n",
              "      <td>15000.000000</td>\n",
              "      <td>15000.000000</td>\n",
              "      <td>15000.000000</td>\n",
              "      <td>15000.000000</td>\n",
              "      <td>15000.000000</td>\n",
              "      <td>15000.000000</td>\n",
              "      <td>15000.000000</td>\n",
              "      <td>15000.000000</td>\n",
              "      <td>15000.000000</td>\n",
              "      <td>15000.000000</td>\n",
              "      <td>15000.000000</td>\n",
              "      <td>15000.000000</td>\n",
              "      <td>15000.000000</td>\n",
              "      <td>15000.000000</td>\n",
              "      <td>1.500000e+04</td>\n",
              "    </tr>\n",
              "    <tr>\n",
              "      <th>mean</th>\n",
              "      <td>0.000067</td>\n",
              "      <td>0.000200</td>\n",
              "      <td>0.000267</td>\n",
              "      <td>0.000267</td>\n",
              "      <td>0.000333</td>\n",
              "      <td>0.000333</td>\n",
              "      <td>0.000067</td>\n",
              "      <td>0.000133</td>\n",
              "      <td>0.000600</td>\n",
              "      <td>0.000333</td>\n",
              "      <td>0.000333</td>\n",
              "      <td>0.000133</td>\n",
              "      <td>0.000133</td>\n",
              "      <td>0.000067</td>\n",
              "      <td>0.000067</td>\n",
              "      <td>0.000067</td>\n",
              "      <td>0.000067</td>\n",
              "      <td>0.000067</td>\n",
              "      <td>0.000067</td>\n",
              "      <td>0.000133</td>\n",
              "      <td>0.000067</td>\n",
              "      <td>0.000467</td>\n",
              "      <td>0.000067</td>\n",
              "      <td>0.000333</td>\n",
              "      <td>0.000067</td>\n",
              "      <td>0.000067</td>\n",
              "      <td>0.000067</td>\n",
              "      <td>0.000200</td>\n",
              "      <td>0.000333</td>\n",
              "      <td>0.000067</td>\n",
              "      <td>0.000133</td>\n",
              "      <td>0.000067</td>\n",
              "      <td>0.000067</td>\n",
              "      <td>0.000333</td>\n",
              "      <td>0.000067</td>\n",
              "      <td>0.000200</td>\n",
              "      <td>0.000067</td>\n",
              "      <td>0.000067</td>\n",
              "      <td>0.000067</td>\n",
              "      <td>0.000067</td>\n",
              "      <td>...</td>\n",
              "      <td>0.011004</td>\n",
              "      <td>0.005522</td>\n",
              "      <td>0.003421</td>\n",
              "      <td>0.008198</td>\n",
              "      <td>0.006175</td>\n",
              "      <td>0.005403</td>\n",
              "      <td>0.002440</td>\n",
              "      <td>0.019506</td>\n",
              "      <td>0.004134</td>\n",
              "      <td>0.032874</td>\n",
              "      <td>0.002112</td>\n",
              "      <td>0.006229</td>\n",
              "      <td>0.004862</td>\n",
              "      <td>0.005405</td>\n",
              "      <td>0.005429</td>\n",
              "      <td>0.001500</td>\n",
              "      <td>0.002757</td>\n",
              "      <td>0.001875</td>\n",
              "      <td>0.002223</td>\n",
              "      <td>0.003910</td>\n",
              "      <td>0.005442</td>\n",
              "      <td>0.018968</td>\n",
              "      <td>0.003125</td>\n",
              "      <td>0.001757</td>\n",
              "      <td>0.003608</td>\n",
              "      <td>0.002715</td>\n",
              "      <td>0.004909</td>\n",
              "      <td>0.007083</td>\n",
              "      <td>0.001233</td>\n",
              "      <td>0.002013</td>\n",
              "      <td>0.003330</td>\n",
              "      <td>0.037335</td>\n",
              "      <td>0.014392</td>\n",
              "      <td>0.001970</td>\n",
              "      <td>0.001686</td>\n",
              "      <td>0.002440</td>\n",
              "      <td>0.001540</td>\n",
              "      <td>2.164467</td>\n",
              "      <td>3.281067</td>\n",
              "      <td>1.299116e+09</td>\n",
              "    </tr>\n",
              "    <tr>\n",
              "      <th>std</th>\n",
              "      <td>0.008165</td>\n",
              "      <td>0.014141</td>\n",
              "      <td>0.016328</td>\n",
              "      <td>0.016328</td>\n",
              "      <td>0.018255</td>\n",
              "      <td>0.018255</td>\n",
              "      <td>0.008165</td>\n",
              "      <td>0.011547</td>\n",
              "      <td>0.024488</td>\n",
              "      <td>0.018255</td>\n",
              "      <td>0.018255</td>\n",
              "      <td>0.011547</td>\n",
              "      <td>0.011547</td>\n",
              "      <td>0.008165</td>\n",
              "      <td>0.008165</td>\n",
              "      <td>0.008165</td>\n",
              "      <td>0.008165</td>\n",
              "      <td>0.008165</td>\n",
              "      <td>0.008165</td>\n",
              "      <td>0.011547</td>\n",
              "      <td>0.008165</td>\n",
              "      <td>0.021598</td>\n",
              "      <td>0.008165</td>\n",
              "      <td>0.018255</td>\n",
              "      <td>0.008165</td>\n",
              "      <td>0.008165</td>\n",
              "      <td>0.008165</td>\n",
              "      <td>0.014141</td>\n",
              "      <td>0.018255</td>\n",
              "      <td>0.008165</td>\n",
              "      <td>0.011547</td>\n",
              "      <td>0.008165</td>\n",
              "      <td>0.008165</td>\n",
              "      <td>0.018255</td>\n",
              "      <td>0.008165</td>\n",
              "      <td>0.014141</td>\n",
              "      <td>0.008165</td>\n",
              "      <td>0.008165</td>\n",
              "      <td>0.008165</td>\n",
              "      <td>0.008165</td>\n",
              "      <td>...</td>\n",
              "      <td>0.035838</td>\n",
              "      <td>0.027876</td>\n",
              "      <td>0.029630</td>\n",
              "      <td>0.034006</td>\n",
              "      <td>0.031810</td>\n",
              "      <td>0.029713</td>\n",
              "      <td>0.023626</td>\n",
              "      <td>0.046646</td>\n",
              "      <td>0.028120</td>\n",
              "      <td>0.050122</td>\n",
              "      <td>0.020066</td>\n",
              "      <td>0.030872</td>\n",
              "      <td>0.028998</td>\n",
              "      <td>0.032845</td>\n",
              "      <td>0.031321</td>\n",
              "      <td>0.017807</td>\n",
              "      <td>0.024452</td>\n",
              "      <td>0.019869</td>\n",
              "      <td>0.020717</td>\n",
              "      <td>0.028609</td>\n",
              "      <td>0.031331</td>\n",
              "      <td>0.046333</td>\n",
              "      <td>0.024009</td>\n",
              "      <td>0.020522</td>\n",
              "      <td>0.025710</td>\n",
              "      <td>0.021529</td>\n",
              "      <td>0.029053</td>\n",
              "      <td>0.031997</td>\n",
              "      <td>0.016785</td>\n",
              "      <td>0.018368</td>\n",
              "      <td>0.025642</td>\n",
              "      <td>0.068356</td>\n",
              "      <td>0.044589</td>\n",
              "      <td>0.019136</td>\n",
              "      <td>0.023057</td>\n",
              "      <td>0.025178</td>\n",
              "      <td>0.019416</td>\n",
              "      <td>6.776367</td>\n",
              "      <td>8.285617</td>\n",
              "      <td>4.603391e+07</td>\n",
              "    </tr>\n",
              "    <tr>\n",
              "      <th>min</th>\n",
              "      <td>0.000000</td>\n",
              "      <td>0.000000</td>\n",
              "      <td>0.000000</td>\n",
              "      <td>0.000000</td>\n",
              "      <td>0.000000</td>\n",
              "      <td>0.000000</td>\n",
              "      <td>0.000000</td>\n",
              "      <td>0.000000</td>\n",
              "      <td>0.000000</td>\n",
              "      <td>0.000000</td>\n",
              "      <td>0.000000</td>\n",
              "      <td>0.000000</td>\n",
              "      <td>0.000000</td>\n",
              "      <td>0.000000</td>\n",
              "      <td>0.000000</td>\n",
              "      <td>0.000000</td>\n",
              "      <td>0.000000</td>\n",
              "      <td>0.000000</td>\n",
              "      <td>0.000000</td>\n",
              "      <td>0.000000</td>\n",
              "      <td>0.000000</td>\n",
              "      <td>0.000000</td>\n",
              "      <td>0.000000</td>\n",
              "      <td>0.000000</td>\n",
              "      <td>0.000000</td>\n",
              "      <td>0.000000</td>\n",
              "      <td>0.000000</td>\n",
              "      <td>0.000000</td>\n",
              "      <td>0.000000</td>\n",
              "      <td>0.000000</td>\n",
              "      <td>0.000000</td>\n",
              "      <td>0.000000</td>\n",
              "      <td>0.000000</td>\n",
              "      <td>0.000000</td>\n",
              "      <td>0.000000</td>\n",
              "      <td>0.000000</td>\n",
              "      <td>0.000000</td>\n",
              "      <td>0.000000</td>\n",
              "      <td>0.000000</td>\n",
              "      <td>0.000000</td>\n",
              "      <td>...</td>\n",
              "      <td>0.000000</td>\n",
              "      <td>0.000000</td>\n",
              "      <td>0.000000</td>\n",
              "      <td>0.000000</td>\n",
              "      <td>0.000000</td>\n",
              "      <td>0.000000</td>\n",
              "      <td>0.000000</td>\n",
              "      <td>0.000000</td>\n",
              "      <td>0.000000</td>\n",
              "      <td>0.000000</td>\n",
              "      <td>0.000000</td>\n",
              "      <td>0.000000</td>\n",
              "      <td>0.000000</td>\n",
              "      <td>0.000000</td>\n",
              "      <td>0.000000</td>\n",
              "      <td>0.000000</td>\n",
              "      <td>0.000000</td>\n",
              "      <td>0.000000</td>\n",
              "      <td>0.000000</td>\n",
              "      <td>0.000000</td>\n",
              "      <td>0.000000</td>\n",
              "      <td>0.000000</td>\n",
              "      <td>0.000000</td>\n",
              "      <td>0.000000</td>\n",
              "      <td>0.000000</td>\n",
              "      <td>0.000000</td>\n",
              "      <td>0.000000</td>\n",
              "      <td>0.000000</td>\n",
              "      <td>0.000000</td>\n",
              "      <td>0.000000</td>\n",
              "      <td>0.000000</td>\n",
              "      <td>0.000000</td>\n",
              "      <td>0.000000</td>\n",
              "      <td>0.000000</td>\n",
              "      <td>0.000000</td>\n",
              "      <td>0.000000</td>\n",
              "      <td>0.000000</td>\n",
              "      <td>0.000000</td>\n",
              "      <td>0.000000</td>\n",
              "      <td>1.046045e+09</td>\n",
              "    </tr>\n",
              "    <tr>\n",
              "      <th>25%</th>\n",
              "      <td>0.000000</td>\n",
              "      <td>0.000000</td>\n",
              "      <td>0.000000</td>\n",
              "      <td>0.000000</td>\n",
              "      <td>0.000000</td>\n",
              "      <td>0.000000</td>\n",
              "      <td>0.000000</td>\n",
              "      <td>0.000000</td>\n",
              "      <td>0.000000</td>\n",
              "      <td>0.000000</td>\n",
              "      <td>0.000000</td>\n",
              "      <td>0.000000</td>\n",
              "      <td>0.000000</td>\n",
              "      <td>0.000000</td>\n",
              "      <td>0.000000</td>\n",
              "      <td>0.000000</td>\n",
              "      <td>0.000000</td>\n",
              "      <td>0.000000</td>\n",
              "      <td>0.000000</td>\n",
              "      <td>0.000000</td>\n",
              "      <td>0.000000</td>\n",
              "      <td>0.000000</td>\n",
              "      <td>0.000000</td>\n",
              "      <td>0.000000</td>\n",
              "      <td>0.000000</td>\n",
              "      <td>0.000000</td>\n",
              "      <td>0.000000</td>\n",
              "      <td>0.000000</td>\n",
              "      <td>0.000000</td>\n",
              "      <td>0.000000</td>\n",
              "      <td>0.000000</td>\n",
              "      <td>0.000000</td>\n",
              "      <td>0.000000</td>\n",
              "      <td>0.000000</td>\n",
              "      <td>0.000000</td>\n",
              "      <td>0.000000</td>\n",
              "      <td>0.000000</td>\n",
              "      <td>0.000000</td>\n",
              "      <td>0.000000</td>\n",
              "      <td>0.000000</td>\n",
              "      <td>...</td>\n",
              "      <td>0.000000</td>\n",
              "      <td>0.000000</td>\n",
              "      <td>0.000000</td>\n",
              "      <td>0.000000</td>\n",
              "      <td>0.000000</td>\n",
              "      <td>0.000000</td>\n",
              "      <td>0.000000</td>\n",
              "      <td>0.000000</td>\n",
              "      <td>0.000000</td>\n",
              "      <td>0.000000</td>\n",
              "      <td>0.000000</td>\n",
              "      <td>0.000000</td>\n",
              "      <td>0.000000</td>\n",
              "      <td>0.000000</td>\n",
              "      <td>0.000000</td>\n",
              "      <td>0.000000</td>\n",
              "      <td>0.000000</td>\n",
              "      <td>0.000000</td>\n",
              "      <td>0.000000</td>\n",
              "      <td>0.000000</td>\n",
              "      <td>0.000000</td>\n",
              "      <td>0.000000</td>\n",
              "      <td>0.000000</td>\n",
              "      <td>0.000000</td>\n",
              "      <td>0.000000</td>\n",
              "      <td>0.000000</td>\n",
              "      <td>0.000000</td>\n",
              "      <td>0.000000</td>\n",
              "      <td>0.000000</td>\n",
              "      <td>0.000000</td>\n",
              "      <td>0.000000</td>\n",
              "      <td>0.000000</td>\n",
              "      <td>0.000000</td>\n",
              "      <td>0.000000</td>\n",
              "      <td>0.000000</td>\n",
              "      <td>0.000000</td>\n",
              "      <td>0.000000</td>\n",
              "      <td>0.000000</td>\n",
              "      <td>0.000000</td>\n",
              "      <td>1.277942e+09</td>\n",
              "    </tr>\n",
              "    <tr>\n",
              "      <th>50%</th>\n",
              "      <td>0.000000</td>\n",
              "      <td>0.000000</td>\n",
              "      <td>0.000000</td>\n",
              "      <td>0.000000</td>\n",
              "      <td>0.000000</td>\n",
              "      <td>0.000000</td>\n",
              "      <td>0.000000</td>\n",
              "      <td>0.000000</td>\n",
              "      <td>0.000000</td>\n",
              "      <td>0.000000</td>\n",
              "      <td>0.000000</td>\n",
              "      <td>0.000000</td>\n",
              "      <td>0.000000</td>\n",
              "      <td>0.000000</td>\n",
              "      <td>0.000000</td>\n",
              "      <td>0.000000</td>\n",
              "      <td>0.000000</td>\n",
              "      <td>0.000000</td>\n",
              "      <td>0.000000</td>\n",
              "      <td>0.000000</td>\n",
              "      <td>0.000000</td>\n",
              "      <td>0.000000</td>\n",
              "      <td>0.000000</td>\n",
              "      <td>0.000000</td>\n",
              "      <td>0.000000</td>\n",
              "      <td>0.000000</td>\n",
              "      <td>0.000000</td>\n",
              "      <td>0.000000</td>\n",
              "      <td>0.000000</td>\n",
              "      <td>0.000000</td>\n",
              "      <td>0.000000</td>\n",
              "      <td>0.000000</td>\n",
              "      <td>0.000000</td>\n",
              "      <td>0.000000</td>\n",
              "      <td>0.000000</td>\n",
              "      <td>0.000000</td>\n",
              "      <td>0.000000</td>\n",
              "      <td>0.000000</td>\n",
              "      <td>0.000000</td>\n",
              "      <td>0.000000</td>\n",
              "      <td>...</td>\n",
              "      <td>0.000000</td>\n",
              "      <td>0.000000</td>\n",
              "      <td>0.000000</td>\n",
              "      <td>0.000000</td>\n",
              "      <td>0.000000</td>\n",
              "      <td>0.000000</td>\n",
              "      <td>0.000000</td>\n",
              "      <td>0.000000</td>\n",
              "      <td>0.000000</td>\n",
              "      <td>0.000000</td>\n",
              "      <td>0.000000</td>\n",
              "      <td>0.000000</td>\n",
              "      <td>0.000000</td>\n",
              "      <td>0.000000</td>\n",
              "      <td>0.000000</td>\n",
              "      <td>0.000000</td>\n",
              "      <td>0.000000</td>\n",
              "      <td>0.000000</td>\n",
              "      <td>0.000000</td>\n",
              "      <td>0.000000</td>\n",
              "      <td>0.000000</td>\n",
              "      <td>0.000000</td>\n",
              "      <td>0.000000</td>\n",
              "      <td>0.000000</td>\n",
              "      <td>0.000000</td>\n",
              "      <td>0.000000</td>\n",
              "      <td>0.000000</td>\n",
              "      <td>0.000000</td>\n",
              "      <td>0.000000</td>\n",
              "      <td>0.000000</td>\n",
              "      <td>0.000000</td>\n",
              "      <td>0.000000</td>\n",
              "      <td>0.000000</td>\n",
              "      <td>0.000000</td>\n",
              "      <td>0.000000</td>\n",
              "      <td>0.000000</td>\n",
              "      <td>0.000000</td>\n",
              "      <td>1.000000</td>\n",
              "      <td>1.000000</td>\n",
              "      <td>1.313626e+09</td>\n",
              "    </tr>\n",
              "    <tr>\n",
              "      <th>75%</th>\n",
              "      <td>0.000000</td>\n",
              "      <td>0.000000</td>\n",
              "      <td>0.000000</td>\n",
              "      <td>0.000000</td>\n",
              "      <td>0.000000</td>\n",
              "      <td>0.000000</td>\n",
              "      <td>0.000000</td>\n",
              "      <td>0.000000</td>\n",
              "      <td>0.000000</td>\n",
              "      <td>0.000000</td>\n",
              "      <td>0.000000</td>\n",
              "      <td>0.000000</td>\n",
              "      <td>0.000000</td>\n",
              "      <td>0.000000</td>\n",
              "      <td>0.000000</td>\n",
              "      <td>0.000000</td>\n",
              "      <td>0.000000</td>\n",
              "      <td>0.000000</td>\n",
              "      <td>0.000000</td>\n",
              "      <td>0.000000</td>\n",
              "      <td>0.000000</td>\n",
              "      <td>0.000000</td>\n",
              "      <td>0.000000</td>\n",
              "      <td>0.000000</td>\n",
              "      <td>0.000000</td>\n",
              "      <td>0.000000</td>\n",
              "      <td>0.000000</td>\n",
              "      <td>0.000000</td>\n",
              "      <td>0.000000</td>\n",
              "      <td>0.000000</td>\n",
              "      <td>0.000000</td>\n",
              "      <td>0.000000</td>\n",
              "      <td>0.000000</td>\n",
              "      <td>0.000000</td>\n",
              "      <td>0.000000</td>\n",
              "      <td>0.000000</td>\n",
              "      <td>0.000000</td>\n",
              "      <td>0.000000</td>\n",
              "      <td>0.000000</td>\n",
              "      <td>0.000000</td>\n",
              "      <td>...</td>\n",
              "      <td>0.000000</td>\n",
              "      <td>0.000000</td>\n",
              "      <td>0.000000</td>\n",
              "      <td>0.000000</td>\n",
              "      <td>0.000000</td>\n",
              "      <td>0.000000</td>\n",
              "      <td>0.000000</td>\n",
              "      <td>0.000000</td>\n",
              "      <td>0.000000</td>\n",
              "      <td>0.064079</td>\n",
              "      <td>0.000000</td>\n",
              "      <td>0.000000</td>\n",
              "      <td>0.000000</td>\n",
              "      <td>0.000000</td>\n",
              "      <td>0.000000</td>\n",
              "      <td>0.000000</td>\n",
              "      <td>0.000000</td>\n",
              "      <td>0.000000</td>\n",
              "      <td>0.000000</td>\n",
              "      <td>0.000000</td>\n",
              "      <td>0.000000</td>\n",
              "      <td>0.000000</td>\n",
              "      <td>0.000000</td>\n",
              "      <td>0.000000</td>\n",
              "      <td>0.000000</td>\n",
              "      <td>0.000000</td>\n",
              "      <td>0.000000</td>\n",
              "      <td>0.000000</td>\n",
              "      <td>0.000000</td>\n",
              "      <td>0.000000</td>\n",
              "      <td>0.000000</td>\n",
              "      <td>0.061488</td>\n",
              "      <td>0.000000</td>\n",
              "      <td>0.000000</td>\n",
              "      <td>0.000000</td>\n",
              "      <td>0.000000</td>\n",
              "      <td>0.000000</td>\n",
              "      <td>2.000000</td>\n",
              "      <td>4.000000</td>\n",
              "      <td>1.333411e+09</td>\n",
              "    </tr>\n",
              "    <tr>\n",
              "      <th>max</th>\n",
              "      <td>1.000000</td>\n",
              "      <td>1.000000</td>\n",
              "      <td>1.000000</td>\n",
              "      <td>1.000000</td>\n",
              "      <td>1.000000</td>\n",
              "      <td>1.000000</td>\n",
              "      <td>1.000000</td>\n",
              "      <td>1.000000</td>\n",
              "      <td>1.000000</td>\n",
              "      <td>1.000000</td>\n",
              "      <td>1.000000</td>\n",
              "      <td>1.000000</td>\n",
              "      <td>1.000000</td>\n",
              "      <td>1.000000</td>\n",
              "      <td>1.000000</td>\n",
              "      <td>1.000000</td>\n",
              "      <td>1.000000</td>\n",
              "      <td>1.000000</td>\n",
              "      <td>1.000000</td>\n",
              "      <td>1.000000</td>\n",
              "      <td>1.000000</td>\n",
              "      <td>1.000000</td>\n",
              "      <td>1.000000</td>\n",
              "      <td>1.000000</td>\n",
              "      <td>1.000000</td>\n",
              "      <td>1.000000</td>\n",
              "      <td>1.000000</td>\n",
              "      <td>1.000000</td>\n",
              "      <td>1.000000</td>\n",
              "      <td>1.000000</td>\n",
              "      <td>1.000000</td>\n",
              "      <td>1.000000</td>\n",
              "      <td>1.000000</td>\n",
              "      <td>1.000000</td>\n",
              "      <td>1.000000</td>\n",
              "      <td>1.000000</td>\n",
              "      <td>1.000000</td>\n",
              "      <td>1.000000</td>\n",
              "      <td>1.000000</td>\n",
              "      <td>1.000000</td>\n",
              "      <td>...</td>\n",
              "      <td>0.392434</td>\n",
              "      <td>0.340942</td>\n",
              "      <td>0.687126</td>\n",
              "      <td>0.472046</td>\n",
              "      <td>0.408876</td>\n",
              "      <td>0.407992</td>\n",
              "      <td>0.409031</td>\n",
              "      <td>0.449051</td>\n",
              "      <td>0.386988</td>\n",
              "      <td>0.380110</td>\n",
              "      <td>0.431835</td>\n",
              "      <td>0.428901</td>\n",
              "      <td>0.424399</td>\n",
              "      <td>0.504743</td>\n",
              "      <td>0.537120</td>\n",
              "      <td>0.423541</td>\n",
              "      <td>0.611497</td>\n",
              "      <td>0.430708</td>\n",
              "      <td>0.415425</td>\n",
              "      <td>0.513928</td>\n",
              "      <td>0.463294</td>\n",
              "      <td>0.456507</td>\n",
              "      <td>0.422613</td>\n",
              "      <td>0.746669</td>\n",
              "      <td>0.462461</td>\n",
              "      <td>0.317445</td>\n",
              "      <td>0.503622</td>\n",
              "      <td>0.386642</td>\n",
              "      <td>0.470237</td>\n",
              "      <td>0.426204</td>\n",
              "      <td>0.638224</td>\n",
              "      <td>0.495204</td>\n",
              "      <td>0.428959</td>\n",
              "      <td>0.424191</td>\n",
              "      <td>0.870707</td>\n",
              "      <td>0.671060</td>\n",
              "      <td>0.614981</td>\n",
              "      <td>436.000000</td>\n",
              "      <td>486.000000</td>\n",
              "      <td>1.351210e+09</td>\n",
              "    </tr>\n",
              "  </tbody>\n",
              "</table>\n",
              "<p>8 rows × 11275 columns</p>\n",
              "</div>"
            ],
            "text/plain": [
              "              0             1      ...         11273         11274\n",
              "count  15000.000000  15000.000000  ...  15000.000000  1.500000e+04\n",
              "mean       0.000067      0.000200  ...      3.281067  1.299116e+09\n",
              "std        0.008165      0.014141  ...      8.285617  4.603391e+07\n",
              "min        0.000000      0.000000  ...      0.000000  1.046045e+09\n",
              "25%        0.000000      0.000000  ...      0.000000  1.277942e+09\n",
              "50%        0.000000      0.000000  ...      1.000000  1.313626e+09\n",
              "75%        0.000000      0.000000  ...      4.000000  1.333411e+09\n",
              "max        1.000000      1.000000  ...    486.000000  1.351210e+09\n",
              "\n",
              "[8 rows x 11275 columns]"
            ]
          },
          "metadata": {
            "tags": []
          },
          "execution_count": 7
        }
      ]
    },
    {
      "cell_type": "markdown",
      "metadata": {
        "deletable": false,
        "editable": false,
        "nbgrader": {
          "cell_type": "markdown",
          "checksum": "6490b9c101d9afea986acda457da5107",
          "grade": false,
          "grade_id": "cell-e29707b947032a36",
          "locked": true,
          "schema_version": 3,
          "solution": false,
          "task": false
        },
        "id": "_R_8IxuYoMRP"
      },
      "source": [
        "## Modeling\n",
        "\n",
        "Fit a `RandomForestClassifier` with the best hyperparameters.  The following code may take up to 1 minute to run."
      ]
    },
    {
      "cell_type": "code",
      "metadata": {
        "deletable": false,
        "editable": false,
        "nbgrader": {
          "cell_type": "code",
          "checksum": "732efe37a7710f3cc076a248d5a1f7b3",
          "grade": false,
          "grade_id": "cell-d71f1997913733d0",
          "locked": true,
          "schema_version": 3,
          "solution": false,
          "task": false
        },
        "id": "VmtET6cqoMRQ",
        "outputId": "52212362-5eab-4d95-ec35-e90f41e059bc",
        "colab": {
          "base_uri": "https://localhost:8080/"
        }
      },
      "source": [
        "rfc = RandomForestClassifier(\n",
        "    random_state=42,\n",
        "    n_estimators=100,\n",
        "    max_depth=30,\n",
        "    min_samples_split=15,\n",
        "    min_samples_leaf=1\n",
        ")\n",
        "rfc.fit(X_train_transformed, y_train)"
      ],
      "execution_count": 8,
      "outputs": [
        {
          "output_type": "execute_result",
          "data": {
            "text/plain": [
              "RandomForestClassifier(bootstrap=True, ccp_alpha=0.0, class_weight=None,\n",
              "                       criterion='gini', max_depth=30, max_features='auto',\n",
              "                       max_leaf_nodes=None, max_samples=None,\n",
              "                       min_impurity_decrease=0.0, min_impurity_split=None,\n",
              "                       min_samples_leaf=1, min_samples_split=15,\n",
              "                       min_weight_fraction_leaf=0.0, n_estimators=100,\n",
              "                       n_jobs=None, oob_score=False, random_state=42, verbose=0,\n",
              "                       warm_start=False)"
            ]
          },
          "metadata": {
            "tags": []
          },
          "execution_count": 8
        }
      ]
    },
    {
      "cell_type": "markdown",
      "metadata": {
        "deletable": false,
        "editable": false,
        "nbgrader": {
          "cell_type": "markdown",
          "checksum": "c01a42b85a3919e299a758aae2b85587",
          "grade": false,
          "grade_id": "cell-7b20cf324ce452ab",
          "locked": true,
          "schema_version": 3,
          "solution": false,
          "task": false
        },
        "id": "TXM-2Gp4oMRT"
      },
      "source": [
        "## Model Evaluation\n",
        "\n",
        "We are using _accuracy_ as our metric, which is the default metric in Scikit-Learn, so it is possible to just use the built-in `.score` method"
      ]
    },
    {
      "cell_type": "code",
      "metadata": {
        "deletable": false,
        "editable": false,
        "nbgrader": {
          "cell_type": "code",
          "checksum": "f563d53773e7219c677794bed839139a",
          "grade": false,
          "grade_id": "cell-10cb2bb51ffa9bc2",
          "locked": true,
          "schema_version": 3,
          "solution": false,
          "task": false
        },
        "id": "alTDbQ7_oMRT",
        "outputId": "2b700ab3-81a0-426c-8657-72f1c5532030",
        "colab": {
          "base_uri": "https://localhost:8080/"
        }
      },
      "source": [
        "print(\"Train accuracy:\", rfc.score(X_train_transformed, y_train))\n",
        "print(\"Test accuracy:\", rfc.score(X_test_transformed, y_test))"
      ],
      "execution_count": 9,
      "outputs": [
        {
          "output_type": "stream",
          "text": [
            "Train accuracy: 0.9826666666666667\n",
            "Test accuracy: 0.913\n"
          ],
          "name": "stdout"
        }
      ]
    },
    {
      "cell_type": "code",
      "metadata": {
        "deletable": false,
        "editable": false,
        "nbgrader": {
          "cell_type": "code",
          "checksum": "18959f145f83655fad150c531b926894",
          "grade": false,
          "grade_id": "cell-e928f8fa4da3ea0a",
          "locked": true,
          "schema_version": 3,
          "solution": false,
          "task": false
        },
        "id": "aO6XZGK_oMRW",
        "outputId": "63e2dcba-303c-43ff-cb8d-158fd96b0139",
        "colab": {
          "base_uri": "https://localhost:8080/"
        }
      },
      "source": [
        "print(\"Train confusion matrix:\")\n",
        "print(confusion_matrix(y_train, rfc.predict(X_train_transformed)))\n",
        "print(\"Test confusion matrix:\")\n",
        "print(confusion_matrix(y_test, rfc.predict(X_test_transformed)))"
      ],
      "execution_count": 10,
      "outputs": [
        {
          "output_type": "stream",
          "text": [
            "Train confusion matrix:\n",
            "[[7312  177]\n",
            " [  83 7428]]\n",
            "Test confusion matrix:\n",
            "[[2293  218]\n",
            " [ 217 2272]]\n"
          ],
          "name": "stdout"
        }
      ]
    },
    {
      "cell_type": "markdown",
      "metadata": {
        "deletable": false,
        "editable": false,
        "nbgrader": {
          "cell_type": "markdown",
          "checksum": "12c85f6c3cb2793e2a0a1cac84995789",
          "grade": false,
          "grade_id": "cell-798fce8a6c47cc98",
          "locked": true,
          "schema_version": 3,
          "solution": false,
          "task": false
        },
        "id": "n86b7e02oMRY"
      },
      "source": [
        "## Business Interpretation\n",
        "\n",
        "The tuned Random Forest Classifier model appears to be somewhat overfit on the training data, but nevertheless achieves 91% accuracy on the test data.  Of the 9% of mislabeled comments, about half are false positives and half are false negatives.\n",
        "\n",
        "Because this is a balanced dataset, 91% accuracy is a substantial improvement over a 50% baseline.  This model is ready for production use for decision support."
      ]
    },
    {
      "cell_type": "markdown",
      "metadata": {
        "deletable": false,
        "editable": false,
        "nbgrader": {
          "cell_type": "markdown",
          "checksum": "74df00ffd61c5bbc137e6c8e60072fdf",
          "grade": false,
          "grade_id": "cell-21ac6d0dc288ef62",
          "locked": true,
          "schema_version": 3,
          "solution": false,
          "task": false
        },
        "id": "cprmIQwHoMRY"
      },
      "source": [
        "## Please add you work below.\n",
        "> Rubric items have been provided as guidance. "
      ]
    },
    {
      "cell_type": "markdown",
      "metadata": {
        "deletable": false,
        "editable": false,
        "nbgrader": {
          "cell_type": "markdown",
          "checksum": "41d131fd6dd98e01edfd6213fb236b81",
          "grade": false,
          "grade_id": "cell-d94af57df5d3f8a5",
          "locked": true,
          "points": 1,
          "schema_version": 3,
          "solution": false,
          "task": true
        },
        "id": "XePAKTgSoMRZ"
      },
      "source": [
        "### 1) Data Preparation\n",
        "\n",
        "A train-test split has already been performed.\n",
        "\n",
        "Additionally, there is already a pipeline in place that drops some columns and converts all text columns into a numeric format for modeling.\n",
        "\n",
        "**Your only additional data preparation task is feature scaling.**  Tree-based models like Random Forest Classifiers do not require scaling, but TensorFlow neural networks do.\n",
        "\n",
        "There are two main strategies you can take for this task:\n",
        "\n",
        "#### Scaling within the existing pipeline\n",
        "\n",
        "If you are comfortable with pipelines, this is the more polished/professional route.\n",
        "\n",
        "1. Make a new pipeline, with a `StandardScaler` as the final step.  You can nest the steps of the previous pipeline inside of this new pipeline\n",
        "2. Generate a new `X_train_transformed_scaled` by calling `.fit_transform` on the new pipeline\n",
        "3. Generate a new `X_test_transformed_scaled` by calling `.transform` on the new pipeline\n",
        "\n",
        "#### Scaling after the pipeline has finished\n",
        "\n",
        "This is a better strategy if you are not as comfortable with pipelines.\n",
        "\n",
        "1. Instantiate a `StandardScaler` object\n",
        "2. Generate a new `X_train_transformed_scaled` by calling `.fit_transform` on the scaler object, after you have called `.fit_transform` on the pipeline\n",
        "3. Generate a new `X_test_transformed_scaled` by calling `.transform` on the scaler object, after you have called `.transform` on the pipeline\n",
        "\n",
        "If you are getting stuck at this step, skip it.  The model will still be able to fit, although the performance will be worse.  Keep in mind whether or not you scaled the data in your final analysis."
      ]
    },
    {
      "cell_type": "markdown",
      "metadata": {
        "id": "uz8PDM7V4CvH"
      },
      "source": [
        "# Feature Scaling"
      ]
    },
    {
      "cell_type": "code",
      "metadata": {
        "id": "xg2Bx4AVoMRZ",
        "outputId": "9128e501-8f4c-4d63-b931-0dcd4daa8f21",
        "colab": {
          "base_uri": "https://localhost:8080/"
        }
      },
      "source": [
        "from sklearn.preprocessing import StandardScaler\n",
        "\n",
        "\n",
        "# create a new pipeline with StandardScaler at the end.  Since all features will be numeric after\n",
        "# the first transformations, and scaling doesn't hurt one-hot-encoding, we will scale all features.\n",
        "\n",
        "newpipe = Pipeline(steps=[\n",
        "    (\"drop_columns\", FunctionTransformer(drop_irrelevant_columns,\n",
        "                                        validate=False)),\n",
        "    (\"transform_text_columns\", ColumnTransformer(transformers=[\n",
        "        (\"ohe\", OneHotEncoder(categories=\"auto\", handle_unknown=\"ignore\", sparse=False), [\"ProductId\"]),\n",
        "        (\"summary-tf-idf\", TfidfVectorizer(max_features=1000), \"Summary\"),\n",
        "        (\"text-tf-idf\", TfidfVectorizer(max_features=1000), \"Text\"),\n",
        "    ], remainder=\"passthrough\")),\n",
        "    ('standard-scaler',StandardScaler())])\n",
        "\n",
        "\n",
        "X_train_transformed_ss = newpipe.fit_transform(X_train)\n",
        "X_test_transformed_ss = newpipe.transform(X_test)\n",
        "\n",
        "X_train_transformed_ss.shape"
      ],
      "execution_count": 11,
      "outputs": [
        {
          "output_type": "execute_result",
          "data": {
            "text/plain": [
              "(15000, 11275)"
            ]
          },
          "metadata": {
            "tags": []
          },
          "execution_count": 11
        }
      ]
    },
    {
      "cell_type": "markdown",
      "metadata": {
        "deletable": false,
        "editable": false,
        "nbgrader": {
          "cell_type": "markdown",
          "checksum": "8c2537bad916f3ff44de14f71d174023",
          "grade": false,
          "grade_id": "cell-fd9103cc41e6498e",
          "locked": true,
          "points": 1,
          "schema_version": 3,
          "solution": false,
          "task": true
        },
        "id": "_tLnfH6toMRc"
      },
      "source": [
        "### 2) Modeling\n",
        "\n",
        "Build a neural network classifier.  Specifically, use the `keras` submodule of the `tensorflow` library to build a multi-layer perceptron model with the `Sequential` interface.\n",
        "\n",
        "See the [`tf.keras` documentation](https://www.tensorflow.org/guide/keras/overview) for an overview on the use of `Sequential` models. See the [Keras layers documentation](https://keras.io/layers/core/) for descriptions of the `Dense` layer options.  \n",
        "\n",
        "1. Instantiate a `Sequential` model\n",
        "2. Add an input `Dense` layer.  You'll need to specify a `input_shape` = (11275,) because this is the number of features of the transformed dataset.\n",
        "3. Add 2 `Dense` hidden layers.  They can have any number of units, but keep in mind that more units will require more processing power.  We recommend an initial `units` of 64 for processing power reasons.\n",
        "4. Add a final `Dense` output layer.  This layer must have exactly 1 unit because we are doing a binary prediction task.\n",
        "5. Compile the `Sequential` model\n",
        "6. Fit the `Sequential` model on the preprocessed training data (`X_train_transformed_scaled`) with a b`batch_size` of 50 and `epochs` of 5 for processing power reasons.\n"
      ]
    },
    {
      "cell_type": "code",
      "metadata": {
        "id": "FOLAr-TLoMRd"
      },
      "source": [
        ""
      ],
      "execution_count": 11,
      "outputs": []
    },
    {
      "cell_type": "code",
      "metadata": {
        "id": "9f9Cgm04oMRh"
      },
      "source": [
        "def make_model1():\n",
        "    import tensorflow as tf\n",
        "    from keras.models import Sequential\n",
        "    from keras.layers import Dense\n",
        "\n",
        "    #instantiate a new, basic sequential model with dense layers\n",
        "    model = Sequential()\n",
        "\n",
        "    #model has 11275 features, so that will be the input shape.  We will use ReLU activations\n",
        "    #and add 2 more dense hidden layers\n",
        "    model.add(Dense(64, input_shape = (11275,), activation = 'relu'))\n",
        "    model.add(Dense(64, activation = 'relu'))\n",
        "    model.add(Dense(64, activation = 'relu'))\n",
        "\n",
        "    #since we have a binary target, 1 output node and a sigmoid activation is appropriate\n",
        "    model.add(Dense(1, activation = 'sigmoid'))\n",
        "\n",
        "    model.compile(optimizer = 'rmsprop', loss = 'binary_crossentropy', metrics = ['accuracy'])\n",
        "    return model"
      ],
      "execution_count": 12,
      "outputs": []
    },
    {
      "cell_type": "code",
      "metadata": {
        "id": "CCg5UvT8oMRk",
        "outputId": "2c0c4629-9942-4347-c48e-89998e8a7f3f",
        "colab": {
          "base_uri": "https://localhost:8080/",
          "height": 230
        }
      },
      "source": [
        "from tensorflow.keras.wrappers.scikit_learn import KerasClassifier\n",
        "from sklearn.model_selection import cross_val_score\n",
        "from sklearn.model_selection import StratifiedKFold\n",
        "from IPython.display import display \n",
        "from sklearn.metrics import confusion_matrix\n",
        "\n",
        "kfold = StratifiedKFold(n_splits=3, shuffle=True, random_state=42)\n",
        "\n",
        "model = KerasClassifier(build_fn = make_model1, epochs = 5, batch_size = 50, verbose = 0)\n",
        "\n",
        "pipe = Pipeline([('model', model)])\n",
        "\n",
        "results = cross_val_score(pipe, X_train_transformed_ss, y_train, cv = kfold, scoring = 'accuracy')\n",
        "print('CV Results:')\n",
        "display(pd.DataFrame(results))"
      ],
      "execution_count": 13,
      "outputs": [
        {
          "output_type": "stream",
          "text": [
            "WARNING:tensorflow:From /usr/local/lib/python3.6/dist-packages/tensorflow/python/keras/wrappers/scikit_learn.py:241: Sequential.predict_classes (from tensorflow.python.keras.engine.sequential) is deprecated and will be removed after 2021-01-01.\n",
            "Instructions for updating:\n",
            "Please use instead:* `np.argmax(model.predict(x), axis=-1)`,   if your model does multi-class classification   (e.g. if it uses a `softmax` last-layer activation).* `(model.predict(x) > 0.5).astype(\"int32\")`,   if your model does binary classification   (e.g. if it uses a `sigmoid` last-layer activation).\n",
            "CV Results:\n"
          ],
          "name": "stdout"
        },
        {
          "output_type": "display_data",
          "data": {
            "text/html": [
              "<div>\n",
              "<style scoped>\n",
              "    .dataframe tbody tr th:only-of-type {\n",
              "        vertical-align: middle;\n",
              "    }\n",
              "\n",
              "    .dataframe tbody tr th {\n",
              "        vertical-align: top;\n",
              "    }\n",
              "\n",
              "    .dataframe thead th {\n",
              "        text-align: right;\n",
              "    }\n",
              "</style>\n",
              "<table border=\"1\" class=\"dataframe\">\n",
              "  <thead>\n",
              "    <tr style=\"text-align: right;\">\n",
              "      <th></th>\n",
              "      <th>0</th>\n",
              "    </tr>\n",
              "  </thead>\n",
              "  <tbody>\n",
              "    <tr>\n",
              "      <th>0</th>\n",
              "      <td>0.9156</td>\n",
              "    </tr>\n",
              "    <tr>\n",
              "      <th>1</th>\n",
              "      <td>0.9080</td>\n",
              "    </tr>\n",
              "    <tr>\n",
              "      <th>2</th>\n",
              "      <td>0.9134</td>\n",
              "    </tr>\n",
              "  </tbody>\n",
              "</table>\n",
              "</div>"
            ],
            "text/plain": [
              "        0\n",
              "0  0.9156\n",
              "1  0.9080\n",
              "2  0.9134"
            ]
          },
          "metadata": {
            "tags": []
          }
        }
      ]
    },
    {
      "cell_type": "markdown",
      "metadata": {
        "deletable": false,
        "editable": false,
        "nbgrader": {
          "cell_type": "markdown",
          "checksum": "ca26d54681429b00d7f86b4e536ac22d",
          "grade": false,
          "grade_id": "cell-414eb9a5881a0913",
          "locked": true,
          "points": 1,
          "schema_version": 3,
          "solution": false,
          "task": true
        },
        "id": "N6sIsRSyoMRn"
      },
      "source": [
        "### 3) Model Tuning + Feature Engineering\n",
        "\n",
        "If you are running out of time, skip this step.\n",
        "\n",
        "Tune the neural network model to improve performance.  This could include steps such as increasing the units, changing the activation functions, or adding regularization.\n",
        "\n",
        "We recommend using using a `validation_split` of 0.1 to understand model performance without utilizing the test holdout set.\n",
        "\n",
        "You can also return to the preprocessing phase, and add additional features to the model."
      ]
    },
    {
      "cell_type": "code",
      "metadata": {
        "id": "DZsp1DQioMRn"
      },
      "source": [
        "def make_model2():\n",
        "    import tensorflow as tf\n",
        "    from keras.models import Sequential\n",
        "    from keras.layers import Dense\n",
        "    from keras.layers import Dropout\n",
        "\n",
        "    #instantiate a new, basic sequential model with dense layers\n",
        "    model = Sequential()\n",
        "\n",
        "    #model has 11275 features, so that will be the input shape.  We will use ReLU activations\n",
        "    #and add 3 more dense hidden layers, and add dropout layers for regularization\n",
        "    model.add(Dense(64, input_shape = (11275,), activation = 'relu'))\n",
        "    model.add(Dropout(rate = .2))\n",
        "    model.add(Dense(64, activation = 'relu'))\n",
        "    model.add(Dropout(rate = .2))\n",
        "    model.add(Dense(64, activation = 'relu'))\n",
        "    model.add(Dropout(rate = .2))\n",
        "    model.add(Dense(64, activation = 'relu'))\n",
        "    model.add(Dropout(rate = .2))\n",
        "\n",
        "    #since we have a binary target, 1 output node and a sigmoid activation is appropriate\n",
        "    model.add(Dense(1, activation = 'sigmoid'))\n",
        "\n",
        "    model.compile(optimizer = 'rmsprop', loss = 'binary_crossentropy', metrics = ['accuracy'])\n",
        "    return model"
      ],
      "execution_count": 14,
      "outputs": []
    },
    {
      "cell_type": "code",
      "metadata": {
        "id": "t5lGyDQ9oMRp",
        "outputId": "e4508aad-9bfd-4912-eef7-778ac76595be",
        "colab": {
          "base_uri": "https://localhost:8080/",
          "height": 157
        }
      },
      "source": [
        "model = KerasClassifier(build_fn = make_model2, epochs = 5, batch_size = 50, verbose = 0)\n",
        "\n",
        "pipe = Pipeline([('model', model)])\n",
        "\n",
        "results = cross_val_score(pipe, X_train_transformed_ss, y_train, cv = kfold, scoring = 'accuracy')\n",
        "print('CV Results:')\n",
        "display(pd.DataFrame(results))"
      ],
      "execution_count": 15,
      "outputs": [
        {
          "output_type": "stream",
          "text": [
            "CV Results:\n"
          ],
          "name": "stdout"
        },
        {
          "output_type": "display_data",
          "data": {
            "text/html": [
              "<div>\n",
              "<style scoped>\n",
              "    .dataframe tbody tr th:only-of-type {\n",
              "        vertical-align: middle;\n",
              "    }\n",
              "\n",
              "    .dataframe tbody tr th {\n",
              "        vertical-align: top;\n",
              "    }\n",
              "\n",
              "    .dataframe thead th {\n",
              "        text-align: right;\n",
              "    }\n",
              "</style>\n",
              "<table border=\"1\" class=\"dataframe\">\n",
              "  <thead>\n",
              "    <tr style=\"text-align: right;\">\n",
              "      <th></th>\n",
              "      <th>0</th>\n",
              "    </tr>\n",
              "  </thead>\n",
              "  <tbody>\n",
              "    <tr>\n",
              "      <th>0</th>\n",
              "      <td>0.9204</td>\n",
              "    </tr>\n",
              "    <tr>\n",
              "      <th>1</th>\n",
              "      <td>0.9160</td>\n",
              "    </tr>\n",
              "    <tr>\n",
              "      <th>2</th>\n",
              "      <td>0.9158</td>\n",
              "    </tr>\n",
              "  </tbody>\n",
              "</table>\n",
              "</div>"
            ],
            "text/plain": [
              "        0\n",
              "0  0.9204\n",
              "1  0.9160\n",
              "2  0.9158"
            ]
          },
          "metadata": {
            "tags": []
          }
        }
      ]
    },
    {
      "cell_type": "code",
      "metadata": {
        "id": "3O8VpmR7oMRs"
      },
      "source": [
        "def make_model3():\n",
        "    import tensorflow as tf\n",
        "    from keras.models import Sequential\n",
        "    from keras.layers import Dense\n",
        "    from keras.layers import Dropout\n",
        "\n",
        "    #instantiate a new, basic sequential model with dense layers\n",
        "    model = Sequential()\n",
        "\n",
        "    #model has 11275 features, so that will be the input shape.  We will use ReLU activations\n",
        "    #and add 4 more dense hidden layers, increase the neurons per layer, and increase the\n",
        "    #regularization (which seems to be helping the cross validation scores)\n",
        "    model.add(Dense(64, input_shape = (11275,), activation = 'relu'))\n",
        "    model.add(Dropout(rate = .4))\n",
        "    model.add(Dense(128, activation = 'relu'))\n",
        "    model.add(Dropout(rate = .5))\n",
        "    model.add(Dense(128, activation = 'relu'))\n",
        "    model.add(Dropout(rate = .5))\n",
        "    model.add(Dense(64, activation = 'relu'))\n",
        "    model.add(Dropout(rate = .3))\n",
        "    model.add(Dense(32, activation = 'relu'))\n",
        "    model.add(Dropout(rate = .2))\n",
        "\n",
        "    #since we have a binary target, 1 output node and a sigmoid activation is appropriate\n",
        "    model.add(Dense(1, activation = 'sigmoid'))\n",
        "\n",
        "    model.compile(optimizer = 'rmsprop', loss = 'binary_crossentropy', metrics = ['accuracy'])\n",
        "    return model"
      ],
      "execution_count": 16,
      "outputs": []
    },
    {
      "cell_type": "code",
      "metadata": {
        "id": "wS7TWwivoMRw",
        "outputId": "28d96fb2-b253-4e38-9cc2-88257fd38bc7",
        "colab": {
          "base_uri": "https://localhost:8080/",
          "height": 157
        }
      },
      "source": [
        "model = KerasClassifier(build_fn = make_model3, epochs = 5, batch_size = 50, verbose = 0)\n",
        "\n",
        "pipe = Pipeline([('model', model)])\n",
        "\n",
        "results = cross_val_score(pipe, X_train_transformed_ss, y_train, cv = kfold, scoring = 'accuracy')\n",
        "print('CV Results:')\n",
        "display(pd.DataFrame(results))"
      ],
      "execution_count": 17,
      "outputs": [
        {
          "output_type": "stream",
          "text": [
            "CV Results:\n"
          ],
          "name": "stdout"
        },
        {
          "output_type": "display_data",
          "data": {
            "text/html": [
              "<div>\n",
              "<style scoped>\n",
              "    .dataframe tbody tr th:only-of-type {\n",
              "        vertical-align: middle;\n",
              "    }\n",
              "\n",
              "    .dataframe tbody tr th {\n",
              "        vertical-align: top;\n",
              "    }\n",
              "\n",
              "    .dataframe thead th {\n",
              "        text-align: right;\n",
              "    }\n",
              "</style>\n",
              "<table border=\"1\" class=\"dataframe\">\n",
              "  <thead>\n",
              "    <tr style=\"text-align: right;\">\n",
              "      <th></th>\n",
              "      <th>0</th>\n",
              "    </tr>\n",
              "  </thead>\n",
              "  <tbody>\n",
              "    <tr>\n",
              "      <th>0</th>\n",
              "      <td>0.9304</td>\n",
              "    </tr>\n",
              "    <tr>\n",
              "      <th>1</th>\n",
              "      <td>0.9258</td>\n",
              "    </tr>\n",
              "    <tr>\n",
              "      <th>2</th>\n",
              "      <td>0.9192</td>\n",
              "    </tr>\n",
              "  </tbody>\n",
              "</table>\n",
              "</div>"
            ],
            "text/plain": [
              "        0\n",
              "0  0.9304\n",
              "1  0.9258\n",
              "2  0.9192"
            ]
          },
          "metadata": {
            "tags": []
          }
        }
      ]
    },
    {
      "cell_type": "code",
      "metadata": {
        "id": "TNXFxNuCoMRy"
      },
      "source": [
        "def make_model4():\n",
        "    import tensorflow as tf\n",
        "    from keras.models import Sequential\n",
        "    from keras.layers import Dense\n",
        "    from keras.layers import Dropout\n",
        "\n",
        "    #instantiate a new, basic sequential model with dense layers\n",
        "    model = Sequential()\n",
        "\n",
        "    #model has 11275 features, so that will be the input shape.  We will use ReLU activations\n",
        "    #and add 2 more dense hidden layers, increase neurons again, and keep strong regularization\n",
        "    model.add(Dense(256, input_shape = (11275,), activation = 'relu'))\n",
        "    model.add(Dropout(rate = .7))\n",
        "    model.add(Dense(256, activation = 'relu'))\n",
        "    model.add(Dropout(rate = .5))\n",
        "    model.add(Dense(256, activation = 'relu'))\n",
        "    model.add(Dropout(rate = .5))\n",
        "\n",
        "\n",
        "    #since we have a binary target, 1 output node and a sigmoid activation is appropriate\n",
        "    model.add(Dense(1, activation = 'sigmoid'))\n",
        "\n",
        "    model.compile(optimizer = 'rmsprop', loss = 'binary_crossentropy', metrics = ['accuracy'])\n",
        "    return model"
      ],
      "execution_count": 18,
      "outputs": []
    },
    {
      "cell_type": "code",
      "metadata": {
        "id": "R5DBO0cqoMR0",
        "outputId": "83677adf-416a-4009-9a46-c3a36e68e607",
        "colab": {
          "base_uri": "https://localhost:8080/",
          "height": 157
        }
      },
      "source": [
        "model = KerasClassifier(build_fn = make_model4, epochs = 5, batch_size = 50, verbose = 0)\n",
        "\n",
        "pipe = Pipeline([('model', model)])\n",
        "\n",
        "results = cross_val_score(pipe, X_train_transformed_ss, y_train, cv = kfold, scoring = 'accuracy')\n",
        "print('CV Results:')\n",
        "display(pd.DataFrame(results))"
      ],
      "execution_count": 19,
      "outputs": [
        {
          "output_type": "stream",
          "text": [
            "CV Results:\n"
          ],
          "name": "stdout"
        },
        {
          "output_type": "display_data",
          "data": {
            "text/html": [
              "<div>\n",
              "<style scoped>\n",
              "    .dataframe tbody tr th:only-of-type {\n",
              "        vertical-align: middle;\n",
              "    }\n",
              "\n",
              "    .dataframe tbody tr th {\n",
              "        vertical-align: top;\n",
              "    }\n",
              "\n",
              "    .dataframe thead th {\n",
              "        text-align: right;\n",
              "    }\n",
              "</style>\n",
              "<table border=\"1\" class=\"dataframe\">\n",
              "  <thead>\n",
              "    <tr style=\"text-align: right;\">\n",
              "      <th></th>\n",
              "      <th>0</th>\n",
              "    </tr>\n",
              "  </thead>\n",
              "  <tbody>\n",
              "    <tr>\n",
              "      <th>0</th>\n",
              "      <td>0.9316</td>\n",
              "    </tr>\n",
              "    <tr>\n",
              "      <th>1</th>\n",
              "      <td>0.9264</td>\n",
              "    </tr>\n",
              "    <tr>\n",
              "      <th>2</th>\n",
              "      <td>0.9250</td>\n",
              "    </tr>\n",
              "  </tbody>\n",
              "</table>\n",
              "</div>"
            ],
            "text/plain": [
              "        0\n",
              "0  0.9316\n",
              "1  0.9264\n",
              "2  0.9250"
            ]
          },
          "metadata": {
            "tags": []
          }
        }
      ]
    },
    {
      "cell_type": "code",
      "metadata": {
        "id": "LKho5DEwq3II"
      },
      "source": [
        "def make_model5():\n",
        "    import tensorflow as tf\n",
        "    from keras.models import Sequential\n",
        "    from keras.layers import Dense\n",
        "    from keras.layers import Dropout\n",
        "\n",
        "    #instantiate a new, basic sequential model with dense layers\n",
        "    model = Sequential()\n",
        "\n",
        "    #model has 11275 features, so that will be the input shape.  We will use ReLU activations\n",
        "    #and add 3 more dense hidden layers, increase neurons again, and keep strong regularization\n",
        "    model.add(Dense(256, input_shape = (11275,), activation = 'relu'))\n",
        "    model.add(Dropout(rate = .8))\n",
        "    model.add(Dense(256, activation = 'relu'))\n",
        "    model.add(Dropout(rate = .5))\n",
        "    model.add(Dense(256, activation = 'relu'))\n",
        "    model.add(Dropout(rate = .5))\n",
        "    model.add(Dense(64, activation = 'relu'))\n",
        "    model.add(Dropout(rate = .3))\n",
        "\n",
        "    #since we have a binary target, 1 output node and a sigmoid activation is appropriate\n",
        "    model.add(Dense(1, activation = 'sigmoid'))\n",
        "\n",
        "    model.compile(optimizer = 'rmsprop', loss = 'binary_crossentropy', metrics = ['accuracy'])\n",
        "    return model"
      ],
      "execution_count": 20,
      "outputs": []
    },
    {
      "cell_type": "code",
      "metadata": {
        "id": "YMCQ4g31q3IM",
        "outputId": "83b537f3-279a-483b-a12a-55ae958b41c8",
        "colab": {
          "base_uri": "https://localhost:8080/",
          "height": 157
        }
      },
      "source": [
        "model = KerasClassifier(build_fn = make_model5, epochs = 5, batch_size = 50, verbose = 0)\n",
        "\n",
        "pipe = Pipeline([('model', model)])\n",
        "\n",
        "results = cross_val_score(pipe, X_train_transformed_ss, y_train, cv = kfold, scoring = 'accuracy')\n",
        "print('CV Results:')\n",
        "display(pd.DataFrame(results))"
      ],
      "execution_count": 21,
      "outputs": [
        {
          "output_type": "stream",
          "text": [
            "CV Results:\n"
          ],
          "name": "stdout"
        },
        {
          "output_type": "display_data",
          "data": {
            "text/html": [
              "<div>\n",
              "<style scoped>\n",
              "    .dataframe tbody tr th:only-of-type {\n",
              "        vertical-align: middle;\n",
              "    }\n",
              "\n",
              "    .dataframe tbody tr th {\n",
              "        vertical-align: top;\n",
              "    }\n",
              "\n",
              "    .dataframe thead th {\n",
              "        text-align: right;\n",
              "    }\n",
              "</style>\n",
              "<table border=\"1\" class=\"dataframe\">\n",
              "  <thead>\n",
              "    <tr style=\"text-align: right;\">\n",
              "      <th></th>\n",
              "      <th>0</th>\n",
              "    </tr>\n",
              "  </thead>\n",
              "  <tbody>\n",
              "    <tr>\n",
              "      <th>0</th>\n",
              "      <td>0.9250</td>\n",
              "    </tr>\n",
              "    <tr>\n",
              "      <th>1</th>\n",
              "      <td>0.9310</td>\n",
              "    </tr>\n",
              "    <tr>\n",
              "      <th>2</th>\n",
              "      <td>0.9218</td>\n",
              "    </tr>\n",
              "  </tbody>\n",
              "</table>\n",
              "</div>"
            ],
            "text/plain": [
              "        0\n",
              "0  0.9250\n",
              "1  0.9310\n",
              "2  0.9218"
            ]
          },
          "metadata": {
            "tags": []
          }
        }
      ]
    },
    {
      "cell_type": "markdown",
      "metadata": {
        "deletable": false,
        "editable": false,
        "nbgrader": {
          "cell_type": "markdown",
          "checksum": "7790b06b01dfc645959055809c9d2614",
          "grade": false,
          "grade_id": "cell-22bc9c383d5836b5",
          "locked": true,
          "points": 1,
          "schema_version": 3,
          "solution": false,
          "task": true
        },
        "id": "IBdngBzMoMR2"
      },
      "source": [
        "### 4) Model Evaluation\n",
        "\n",
        "Choose a final `Sequential` model, add layers, and compile.  Fit the model on the preprocessed training data (`X_train_transformed_scaled`, `y_train`) and evaluate on the preprocessed testing data (`X_test_transformed_scaled`, `y_test`) using `accuracy_score`."
      ]
    },
    {
      "cell_type": "code",
      "metadata": {
        "id": "xM1qr_nUoMR3",
        "outputId": "9d2b8b2d-6566-4ec2-f2c1-101a73bc08e6",
        "colab": {
          "base_uri": "https://localhost:8080/",
          "height": 162
        }
      },
      "source": [
        "from sklearn.metrics import accuracy_score\n",
        "\n",
        "pipe.fit(X_train_transformed_ss,y_train)\n",
        "ypred = pipe.predict(X_test_transformed_ss)\n",
        "print('Confusion Matrix')\n",
        "display(pd.DataFrame(confusion_matrix(y_test,ypred)))\n",
        "print('accuracy score is:')\n",
        "accuracy_score(y_test,ypred)"
      ],
      "execution_count": 22,
      "outputs": [
        {
          "output_type": "stream",
          "text": [
            "Confusion Matrix\n"
          ],
          "name": "stdout"
        },
        {
          "output_type": "display_data",
          "data": {
            "text/html": [
              "<div>\n",
              "<style scoped>\n",
              "    .dataframe tbody tr th:only-of-type {\n",
              "        vertical-align: middle;\n",
              "    }\n",
              "\n",
              "    .dataframe tbody tr th {\n",
              "        vertical-align: top;\n",
              "    }\n",
              "\n",
              "    .dataframe thead th {\n",
              "        text-align: right;\n",
              "    }\n",
              "</style>\n",
              "<table border=\"1\" class=\"dataframe\">\n",
              "  <thead>\n",
              "    <tr style=\"text-align: right;\">\n",
              "      <th></th>\n",
              "      <th>0</th>\n",
              "      <th>1</th>\n",
              "    </tr>\n",
              "  </thead>\n",
              "  <tbody>\n",
              "    <tr>\n",
              "      <th>0</th>\n",
              "      <td>2338</td>\n",
              "      <td>173</td>\n",
              "    </tr>\n",
              "    <tr>\n",
              "      <th>1</th>\n",
              "      <td>138</td>\n",
              "      <td>2351</td>\n",
              "    </tr>\n",
              "  </tbody>\n",
              "</table>\n",
              "</div>"
            ],
            "text/plain": [
              "      0     1\n",
              "0  2338   173\n",
              "1   138  2351"
            ]
          },
          "metadata": {
            "tags": []
          }
        },
        {
          "output_type": "stream",
          "text": [
            "accuracy score is:\n"
          ],
          "name": "stdout"
        },
        {
          "output_type": "execute_result",
          "data": {
            "text/plain": [
              "0.9378"
            ]
          },
          "metadata": {
            "tags": []
          },
          "execution_count": 22
        }
      ]
    },
    {
      "cell_type": "markdown",
      "metadata": {
        "deletable": false,
        "editable": false,
        "nbgrader": {
          "cell_type": "markdown",
          "checksum": "1652e990b0d6d78b7c8f5fa24fe058ad",
          "grade": false,
          "grade_id": "cell-09fa9ba130b03198",
          "locked": true,
          "points": 1,
          "schema_version": 3,
          "solution": false,
          "task": true
        },
        "id": "isPQ-pZooMR5"
      },
      "source": [
        "### 5) Technical Communication\n",
        "\n",
        "Write a paragraph explaining whether Northwind Trading Company should switch to using your new neural network model, or continue to use the Random Forest Classifier.  Beyond a simple comparison of performance, try to take into consideration additional considerations such as:\n",
        "\n",
        " - Computational complexity/resource use\n",
        " - Anticipated performance on future datasets (how might the data change over time?)\n",
        " - Types of mistakes made by the two kinds of models\n",
        "\n",
        "You can make guesses or inferences about these considerations.\n",
        "\n",
        "**Include at least one visualization** comparing the two types of models.  Possible points of comparison could include ROC curves, colorized confusion matrices, or time needed to train.\n"
      ]
    },
    {
      "cell_type": "markdown",
      "metadata": {
        "id": "vkl5r_D009Ho"
      },
      "source": [
        "## Stats for Random Forest Classifier:"
      ]
    },
    {
      "cell_type": "code",
      "metadata": {
        "id": "wMRyLQ4Gy-VX",
        "outputId": "d0367234-16b2-4e0d-fa17-531799e16c03",
        "colab": {
          "base_uri": "https://localhost:8080/",
          "height": 333
        }
      },
      "source": [
        "import seaborn as sns\n",
        "import time\n",
        "import matplotlib.pyplot as plt\n",
        "\n",
        "#Training and Evaluation\n",
        "start = time.time()\n",
        "rfc.fit(X_train_transformed, y_train)\n",
        "rfcconfusion_matrix = confusion_matrix(y_test, rfc.predict(X_test_transformed),\n",
        "                                       normalize = 'true')\n",
        "ypred = rfc.predict(X_test_transformed)\n",
        "end = time.time()\n",
        "rfc_time = end - start\n",
        "\n",
        "#Reporting\n",
        "print(\"RFC Test accuracy:\", accuracy_score(y_test, ypred))\n",
        "\n",
        "print(\"RFC Test confusion matrix:\")\n",
        "sns.heatmap(rfcconfusion_matrix, annot = True, xticklabels = ['Negative','Positive'],\n",
        "            yticklabels = ['Negatvie','Positive'])\n",
        "plt.xlabel('Predicted Class')\n",
        "plt.ylabel('True Class')\n",
        "plt.show()\n",
        "\n",
        "print(f'time to retrain, predict, and test for random forest classificer is {rfc_time} seconds')\n"
      ],
      "execution_count": 57,
      "outputs": [
        {
          "output_type": "stream",
          "text": [
            "RFC Test accuracy: 0.913\n",
            "RFC Test confusion matrix:\n"
          ],
          "name": "stdout"
        },
        {
          "output_type": "display_data",
          "data": {
            "image/png": "[encoded data removed]",
            "text/plain": [
              "<Figure size 432x288 with 2 Axes>"
            ]
          },
          "metadata": {
            "tags": [],
            "needs_background": "light"
          }
        },
        {
          "output_type": "stream",
          "text": [
            "time to retrain, predict, and test for random forest classificer is 28.2722806930542 seconds\n"
          ],
          "name": "stdout"
        }
      ]
    },
    {
      "cell_type": "markdown",
      "metadata": {
        "id": "7CF0DkFt32CQ"
      },
      "source": [
        "## Stats for Deep Learning Neural Network"
      ]
    },
    {
      "cell_type": "code",
      "metadata": {
        "id": "lhOAlixdvrxQ",
        "outputId": "34c208f8-6267-4297-b8e2-d61885e0ff06",
        "colab": {
          "base_uri": "https://localhost:8080/",
          "height": 350
        }
      },
      "source": [
        "#Training and evaluation\n",
        "\n",
        "NNmodel = KerasClassifier(build_fn = make_model4, epochs = 5, batch_size = 50, verbose = 0)\n",
        "pipe = Pipeline([('model', NNmodel)])\n",
        "\n",
        "start = time.time()\n",
        "\n",
        "pipe.fit(X_train_transformed_ss,y_train)\n",
        "ypred = pipe.predict(X_test_transformed_ss)\n",
        "NN_confusion_matrix = confusion_matrix(y_test,ypred, normalize = 'true')\n",
        "accuracy_score(y_test,ypred)\n",
        "\n",
        "end = time.time()\n",
        "NNtime = end - start\n",
        "\n",
        "#Reporting\n",
        "print('test accuracy score is:', accuracy_score(y_test,ypred))\n",
        "\n",
        "print('confusion matrix for neural network is:')\n",
        "sns.heatmap(NN_confusion_matrix, annot = True, xticklabels = ['Negative','Positive'],\n",
        "            yticklabels = ['Negatvie','Positive'])\n",
        "plt.xlabel('Predicted Class')\n",
        "plt.ylabel('True Class')\n",
        "plt.show()\n",
        "\n",
        "print(f'time to retrain, predict, and test for neural netword is {NNtime} seconds')"
      ],
      "execution_count": 56,
      "outputs": [
        {
          "output_type": "stream",
          "text": [
            "test Confusion Matrix\n",
            "test accuracy score is: 0.9396\n",
            "confusion matrix for neural network is:\n"
          ],
          "name": "stdout"
        },
        {
          "output_type": "display_data",
          "data": {
            "image/png": "[encoded data removed]",
            "text/plain": [
              "<Figure size 432x288 with 2 Axes>"
            ]
          },
          "metadata": {
            "tags": [],
            "needs_background": "light"
          }
        },
        {
          "output_type": "stream",
          "text": [
            "time to retrain, predict, and test for neural netword is 5.0213682651519775 seconds\n"
          ],
          "name": "stdout"
        }
      ]
    },
    {
      "cell_type": "markdown",
      "metadata": {
        "id": "kHxpnwDN1ttH"
      },
      "source": [
        "# Results:\n",
        "### Increase training and predicting speed\n",
        "When run on a server with access to a GPU, you can see that the neural network we have designed run much faster, in fact 6x faster.  This is because Tensorflow can take advantage of distributed processing to use multiple available processors to complete a task, while the SKlearn random forest library only makes use of one.\n",
        "\n",
        "### Improved Accuracy\n",
        "Our deep learning model is 3% more accurate than the random forest classifier, making both fewer false negative and fewer false positive errors.  Only 6% of negative reviews are misclassified as positive and only 7% of positive reviews are misclassified as negative.  In comparision, the random forest classifier misclassifies almost 9% of each.\n",
        "\n",
        "### Summary:\n",
        "Our engineered and tuned deep learning neural network model is an improvement on the random forest classifier in training speed, prediction speed, and accuracy across both classes.  It is a superior model.\n",
        "\n",
        "### Note\n",
        "The deep learning model is optimal when run on distributed computing architectures.  This includes computers with strong GPUs, but also many cloud available servies such as AWS and Google cloud services.  This model was developed, trained, and benchmarked on Google Colab."
      ]
    }
  ]
}